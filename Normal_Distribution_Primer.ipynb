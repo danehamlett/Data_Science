{
  "nbformat": 4,
  "nbformat_minor": 0,
  "metadata": {
    "colab": {
      "name": "Normal Distribution Primer.ipynb",
      "provenance": [],
      "authorship_tag": "ABX9TyMVWNz9OAEvfeU0QLIfFDDr",
      "include_colab_link": true
    },
    "kernelspec": {
      "name": "python3",
      "display_name": "Python 3"
    },
    "language_info": {
      "name": "python"
    }
  },
  "cells": [
    {
      "cell_type": "markdown",
      "metadata": {
        "id": "view-in-github",
        "colab_type": "text"
      },
      "source": [
        "<a href=\"https://colab.research.google.com/github/danehamlett/Data_Science/blob/master/Normal_Distribution_Primer.ipynb\" target=\"_parent\"><img src=\"https://colab.research.google.com/assets/colab-badge.svg\" alt=\"Open In Colab\"/></a>"
      ]
    },
    {
      "cell_type": "markdown",
      "metadata": {
        "id": "MfcAvP7KGuHX"
      },
      "source": [
        "# The Normal Distribution\n",
        "\n",
        "The normal distribution, also known as the Gaussian distribution is a continuous probability distribution, is a probability distribution that is symmetric about the mean, showing that data near the mean are more frequent in occurrence than data far from the mean. In graph form, normal distribution will appear as a bell curve.\n",
        "\n",
        "**Notebook inspired by this article: https://towardsdatascience.com/6-ways-to-test-for-a-normal-distribution-which-one-to-use-9dcf47d8fa93"
      ]
    },
    {
      "cell_type": "markdown",
      "metadata": {
        "id": "NC_gfh8iG3y0"
      },
      "source": [
        "## Histogram\n",
        "\n",
        "A histogram is a visualization method that allows for a representation of the distribution of a variable . . . essentially the frequency of the occurance of a value in a set. Normal distribution on the left, non-normal distribution (uniform) on the right.\n",
        "<img href=\"https://towardsdatascience.com/6-ways-to-test-for-a-normal-distribution-which-one-to-use-9dcf47d8fa93\" src=\"https://miro.medium.com/max/1232/1*cYsTolafUgOQQcUsohXo3g.png\"></img>"
      ]
    },
    {
      "cell_type": "code",
      "metadata": {
        "colab": {
          "base_uri": "https://localhost:8080/",
          "height": 265
        },
        "id": "kWf8dCmwGeKa",
        "outputId": "174d321e-f82c-4b72-c7f0-ab871aa655c5"
      },
      "source": [
        "import pandas as pd\n",
        "my_data = pd.Series([1, 2, 3, 4, 5, 6, 7, 8, 9, 10, 8, 6, 4, 2])\n",
        "my_data.hist();"
      ],
      "execution_count": 2,
      "outputs": [
        {
          "output_type": "display_data",
          "data": {
            "image/png": "[encoded data removed]",
            "text/plain": [
              "<Figure size 432x288 with 1 Axes>"
            ]
          },
          "metadata": {
            "needs_background": "light"
          }
        }
      ]
    }
  ]
}